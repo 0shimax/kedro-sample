{
 "cells": [
  {
   "cell_type": "code",
   "execution_count": 1,
   "id": "2aee751f",
   "metadata": {},
   "outputs": [],
   "source": [
    "from typing import Dict, Tuple, List, Any\n",
    "import datetime as dt\n",
    "import json\n",
    "from pathlib import Path\n",
    "import pandas as pd\n",
    "import numpy as np\n",
    "from sklearn import metrics\n",
    "import xgboost as xgb\n",
    "import mlflow\n",
    "from category_encoders import CountEncoder\n",
    "from kedro.framework.session import KedroSession\n",
    "from kedro.framework.startup import bootstrap_project\n",
    "import sys\n",
    "sys.path.append(\"../../src/hellow_kedro/pipelines/data_processing\")\n",
    "from helpers import _is_true, _parse_percentage, _parse_money"
   ]
  },
  {
   "cell_type": "code",
   "execution_count": 2,
   "id": "010b9176",
   "metadata": {},
   "outputs": [
    {
     "name": "stdout",
     "output_type": "stream",
     "text": [
      "2021-12-25 06:26:40,428 - kedro.framework.session.store - INFO - `save()` not implemented for `BaseSessionStore`. Skipping the step.\n"
     ]
    }
   ],
   "source": [
    "# use config with base\n",
    "metadata = bootstrap_project(Path.cwd().parent.parent)\n",
    "with KedroSession.create(metadata.package_name,\n",
    "        project_path=metadata.project_path,\n",
    "        # save_on_close=True,\n",
    "        env=None,\n",
    "        # extra_params=extra_params\n",
    "    ) as session: \n",
    "    context = session.load_context()\n"
   ]
  },
  {
   "cell_type": "code",
   "execution_count": 3,
   "id": "23f6634e",
   "metadata": {},
   "outputs": [
    {
     "data": {
      "text/plain": [
       "{'test_size': 0.2,\n",
       " 'random_state': 3,\n",
       " 'features': ['engines',\n",
       "  'passenger_capacity',\n",
       "  'crew',\n",
       "  'd_check_complete',\n",
       "  'moon_clearance_complete',\n",
       "  'iata_approved',\n",
       "  'company_rating',\n",
       "  'review_scores_rating']}"
      ]
     },
     "execution_count": 3,
     "metadata": {},
     "output_type": "execute_result"
    }
   ],
   "source": [
    "context.params"
   ]
  },
  {
   "cell_type": "code",
   "execution_count": 4,
   "id": "da946bc1",
   "metadata": {
    "tags": [
     "node"
    ]
   },
   "outputs": [],
   "source": [
    "def preprocess_companies(companies: pd.DataFrame) -> pd.DataFrame:\n",
    "    companies[\"iata_approved\"] = _is_true(companies[\"iata_approved\"])\n",
    "    companies[\"company_rating\"] = _parse_percentage(companies[\"company_rating\"])\n",
    "    return companies"
   ]
  },
  {
   "cell_type": "code",
   "execution_count": 5,
   "id": "bca8b2b9",
   "metadata": {},
   "outputs": [],
   "source": [
    "def preprocess_shuttles(shuttles: pd.DataFrame) -> pd.DataFrame:\n",
    "    shuttles[\"d_check_complete\"] = _is_true(shuttles[\"d_check_complete\"])\n",
    "    shuttles[\"moon_clearance_complete\"] = _is_true(shuttles[\"moon_clearance_complete\"])\n",
    "    shuttles[\"price\"] = _parse_money(shuttles[\"price\"])\n",
    "    return shuttles"
   ]
  },
  {
   "cell_type": "code",
   "execution_count": 6,
   "id": "69cd2853",
   "metadata": {},
   "outputs": [],
   "source": [
    "def create_model_input_table(\n",
    "    shuttles: pd.DataFrame, companies: pd.DataFrame, reviews: pd.DataFrame\n",
    ") -> pd.DataFrame:\n",
    "    rated_shuttles = shuttles.merge(reviews, left_on=\"id\", right_on=\"shuttle_id\")\n",
    "    model_input_table = rated_shuttles.merge(\n",
    "        companies, left_on=\"company_id\", right_on=\"id\"\n",
    "    )\n",
    "    model_input_table = model_input_table.dropna()\n",
    "    return model_input_table"
   ]
  },
  {
   "cell_type": "code",
   "execution_count": 7,
   "id": "c1f12f3d",
   "metadata": {},
   "outputs": [
    {
     "name": "stderr",
     "output_type": "stream",
     "text": [
      "/usr/local/lib/python3.7/site-packages/kedro/framework/context/context.py:488: UserWarning: Credentials not found in your Kedro project config.\n",
      "No files found in ['/kedro-sample/own_examples/conf/base', '/kedro-sample/own_examples/conf/local'] matching the glob pattern(s): ['credentials*', 'credentials*/**', '**/credentials*']\n",
      "  warn(f\"Credentials not found in your Kedro project config.\\n{str(exc)}\")\n"
     ]
    },
    {
     "name": "stdout",
     "output_type": "stream",
     "text": [
      "2021-12-25 06:26:47,383 - kedro.io.data_catalog - INFO - Loading data from `companies` (CSVDataSet)...\n",
      "2021-12-25 06:26:47,510 - kedro.io.data_catalog - INFO - Saving data to `preprocessed_companies` (CSVDataSet)...\n"
     ]
    }
   ],
   "source": [
    "preprocessed_companies = preprocess_companies(context.catalog.load(\"companies\"))\n",
    "context.catalog.save(\"preprocessed_companies\", preprocessed_companies)"
   ]
  },
  {
   "cell_type": "code",
   "execution_count": 8,
   "id": "873747f9",
   "metadata": {},
   "outputs": [
    {
     "name": "stdout",
     "output_type": "stream",
     "text": [
      "2021-12-25 06:30:33,047 - kedro.io.data_catalog - INFO - Loading data from `shuttles` (ExcelDataSet)...\n",
      "2021-12-25 06:30:49,879 - kedro.io.data_catalog - INFO - Saving data to `preprocessed_shuttles` (CSVDataSet)...\n"
     ]
    },
    {
     "name": "stderr",
     "output_type": "stream",
     "text": [
      "../../src/hellow_kedro/pipelines/data_processing/helpers.py:12: FutureWarning: The default value of regex will change from True to False in a future version. In addition, single character regular expressions will *not* be treated as literal strings when regex=True.\n",
      "  x = x.str.replace(\"$\", \"\").str.replace(\",\", \"\")\n"
     ]
    }
   ],
   "source": [
    "preprocessed_shuttles = preprocess_shuttles(\n",
    "    context.catalog.load(\"shuttles\")\n",
    ")\n",
    "context.catalog.save(\"preprocessed_shuttles\", preprocessed_shuttles)"
   ]
  },
  {
   "cell_type": "code",
   "execution_count": 9,
   "id": "fe99cd0a",
   "metadata": {},
   "outputs": [
    {
     "name": "stdout",
     "output_type": "stream",
     "text": [
      "2021-12-25 06:31:42,290 - kedro.io.data_catalog - INFO - Loading data from `preprocessed_shuttles` (CSVDataSet)...\n",
      "2021-12-25 06:31:42,453 - kedro.io.data_catalog - INFO - Loading data from `preprocessed_companies` (CSVDataSet)...\n",
      "2021-12-25 06:31:42,515 - kedro.io.data_catalog - INFO - Loading data from `reviews` (CSVDataSet)...\n",
      "2021-12-25 06:31:44,908 - kedro.io.data_catalog - INFO - Saving data to `model_input_table` (CSVDataSet)...\n"
     ]
    }
   ],
   "source": [
    "model_input_table = create_model_input_table(\n",
    "    context.catalog.load(\"preprocessed_shuttles\")\n",
    "    ,context.catalog.load(\"preprocessed_companies\")\n",
    "    ,context.catalog.load(\"reviews\")\n",
    ")\n",
    "context.catalog.save(\"model_input_table\", model_input_table)"
   ]
  },
  {
   "cell_type": "code",
   "execution_count": null,
   "id": "4f670921",
   "metadata": {},
   "outputs": [],
   "source": []
  }
 ],
 "metadata": {
  "celltoolbar": "Tags",
  "interpreter": {
   "hash": "949777d72b0d2535278d3dc13498b2535136f6dfe0678499012e853ee9abcab1"
  },
  "kernelspec": {
   "display_name": "HellowKedro",
   "language": "python",
   "name": "python3"
  },
  "language_info": {
   "codemirror_mode": {
    "name": "ipython",
    "version": 3
   },
   "file_extension": ".py",
   "mimetype": "text/x-python",
   "name": "python",
   "nbconvert_exporter": "python",
   "pygments_lexer": "ipython3",
   "version": "3.7.12"
  }
 },
 "nbformat": 4,
 "nbformat_minor": 5
}
