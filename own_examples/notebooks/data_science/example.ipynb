{
 "cells": [
  {
   "cell_type": "code",
   "execution_count": 2,
   "id": "2aee751f",
   "metadata": {},
   "outputs": [],
   "source": [
    "from typing import Dict, Tuple, List, Any\n",
    "import datetime as dt\n",
    "import json\n",
    "from pathlib import Path\n",
    "import pandas as pd\n",
    "import numpy as np\n",
    "from sklearn.linear_model import LinearRegression\n",
    "from sklearn.metrics import r2_score\n",
    "from sklearn.model_selection import train_test_split\n",
    "import xgboost as xgb\n",
    "import mlflow\n",
    "from kedro.framework.session import KedroSession\n",
    "from kedro.framework.startup import bootstrap_project"
   ]
  },
  {
   "cell_type": "code",
   "execution_count": 6,
   "id": "010b9176",
   "metadata": {},
   "outputs": [
    {
     "name": "stdout",
     "output_type": "stream",
     "text": [
      "2021-12-25 07:07:33,158 - kedro.framework.session.store - INFO - `save()` not implemented for `BaseSessionStore`. Skipping the step.\n"
     ]
    }
   ],
   "source": [
    "# use config with base\n",
    "metadata = bootstrap_project(Path.cwd().parent.parent)\n",
    "with KedroSession.create(metadata.package_name,\n",
    "        project_path=metadata.project_path,\n",
    "        # save_on_close=True,\n",
    "        env=None,\n",
    "        # extra_params=extra_params\n",
    "    ) as session: \n",
    "    context = session.load_context()\n"
   ]
  },
  {
   "cell_type": "code",
   "execution_count": 3,
   "id": "23f6634e",
   "metadata": {},
   "outputs": [
    {
     "data": {
      "text/plain": [
       "{'test_size': 0.2,\n",
       " 'random_state': 3,\n",
       " 'features': ['engines',\n",
       "  'passenger_capacity',\n",
       "  'crew',\n",
       "  'd_check_complete',\n",
       "  'moon_clearance_complete',\n",
       "  'iata_approved',\n",
       "  'company_rating',\n",
       "  'review_scores_rating']}"
      ]
     },
     "execution_count": 3,
     "metadata": {},
     "output_type": "execute_result"
    }
   ],
   "source": [
    "context.params"
   ]
  },
  {
   "cell_type": "code",
   "execution_count": 4,
   "id": "da946bc1",
   "metadata": {
    "tags": [
     "node"
    ]
   },
   "outputs": [],
   "source": [
    "def split_data(data: pd.DataFrame, parameters: Dict) -> Tuple:\n",
    "    X = data[parameters[\"features\"]]\n",
    "    y = data[\"price\"]\n",
    "    X_train, X_test, y_train, y_test = train_test_split(\n",
    "        X, y, test_size=parameters[\"test_size\"], random_state=parameters[\"random_state\"]\n",
    "    )\n",
    "    return X_train, X_test, y_train, y_test"
   ]
  },
  {
   "cell_type": "code",
   "execution_count": 5,
   "id": "a258bf54",
   "metadata": {},
   "outputs": [],
   "source": [
    "def train_model(X_train: pd.DataFrame, y_train: pd.Series) -> LinearRegression:\n",
    "    regressor = LinearRegression()\n",
    "    regressor.fit(X_train, y_train)\n",
    "    return regressor"
   ]
  },
  {
   "cell_type": "code",
   "execution_count": 6,
   "id": "778c4e96",
   "metadata": {
    "tags": [
     "node"
    ]
   },
   "outputs": [],
   "source": [
    "def evaluate_model(\n",
    "    regressor: LinearRegression, X_test: pd.DataFrame, y_test: pd.Series\n",
    "):\n",
    "    y_pred = regressor.predict(X_test)\n",
    "    score = r2_score(y_test, y_pred)\n",
    "    with mlflow.start_run():\n",
    "        mlflow.log_metric(\"r2\", score)\n",
    "        mlflow.log_param(\"time of prediction\", str(dt.datetime.now()))\n",
    "        # mlflow.log_param(\"model_params\", parameters)\n",
    "    "
   ]
  },
  {
   "cell_type": "code",
   "execution_count": 7,
   "id": "c1f12f3d",
   "metadata": {},
   "outputs": [
    {
     "name": "stderr",
     "output_type": "stream",
     "text": [
      "/usr/local/lib/python3.7/site-packages/kedro/framework/context/context.py:488: UserWarning: Credentials not found in your Kedro project config.\n",
      "No files found in ['/kedro-sample/own_examples/conf/base', '/kedro-sample/own_examples/conf/local'] matching the glob pattern(s): ['credentials*', 'credentials*/**', '**/credentials*']\n",
      "  warn(f\"Credentials not found in your Kedro project config.\\n{str(exc)}\")\n"
     ]
    },
    {
     "name": "stdout",
     "output_type": "stream",
     "text": [
      "2021-12-25 06:43:51,698 - kedro.io.data_catalog - INFO - Loading data from `model_input_table` (CSVDataSet)...\n",
      "2021-12-25 06:43:53,956 - kedro.io.data_catalog - INFO - Saving data to `X_train` (PickleDataSet)...\n",
      "2021-12-25 06:43:54,058 - kedro.io.data_catalog - INFO - Saving data to `X_test` (PickleDataSet)...\n",
      "2021-12-25 06:43:54,096 - kedro.io.data_catalog - INFO - Saving data to `y_train` (PickleDataSet)...\n",
      "2021-12-25 06:43:54,144 - kedro.io.data_catalog - INFO - Saving data to `y_test` (PickleDataSet)...\n"
     ]
    }
   ],
   "source": [
    "X_train, X_test, y_train, y_test = split_data(\n",
    "    context.catalog.load(\"model_input_table\")\n",
    "    ,context.params\n",
    ")\n",
    "context.catalog.save(\"X_train\", X_train)\n",
    "context.catalog.save(\"X_test\", X_test)\n",
    "context.catalog.save(\"y_train\", y_train)\n",
    "context.catalog.save(\"y_test\", y_test)"
   ]
  },
  {
   "cell_type": "code",
   "execution_count": 8,
   "id": "873747f9",
   "metadata": {},
   "outputs": [
    {
     "name": "stdout",
     "output_type": "stream",
     "text": [
      "2021-12-25 06:45:16,259 - kedro.io.data_catalog - INFO - Loading data from `X_train` (PickleDataSet)...\n",
      "2021-12-25 06:45:16,335 - kedro.io.data_catalog - INFO - Loading data from `y_train` (PickleDataSet)...\n",
      "2021-12-25 06:45:17,156 - kedro.io.data_catalog - INFO - Saving data to `regressor` (PickleDataSet)...\n"
     ]
    },
    {
     "name": "stderr",
     "output_type": "stream",
     "text": [
      "/usr/local/lib/python3.7/site-packages/kedro/framework/context/context.py:488: UserWarning: Credentials not found in your Kedro project config.\n",
      "No files found in ['/kedro-sample/own_examples/conf/base', '/kedro-sample/own_examples/conf/local'] matching the glob pattern(s): ['credentials*', 'credentials*/**', '**/credentials*']\n",
      "  warn(f\"Credentials not found in your Kedro project config.\\n{str(exc)}\")\n"
     ]
    }
   ],
   "source": [
    "regressor = train_model(\n",
    "    context.catalog.load(\"X_train\")\n",
    "    ,context.catalog.load(\"y_train\")\n",
    ")\n",
    "context.catalog.save(\"regressor\", regressor)"
   ]
  },
  {
   "cell_type": "code",
   "execution_count": 9,
   "id": "fe99cd0a",
   "metadata": {},
   "outputs": [
    {
     "name": "stdout",
     "output_type": "stream",
     "text": [
      "2021-12-25 06:47:09,873 - kedro.io.data_catalog - INFO - Loading data from `regressor` (PickleDataSet)...\n",
      "2021-12-25 06:47:09,927 - kedro.io.data_catalog - INFO - Loading data from `X_test` (PickleDataSet)...\n",
      "2021-12-25 06:47:09,968 - kedro.io.data_catalog - INFO - Loading data from `y_test` (PickleDataSet)...\n"
     ]
    },
    {
     "name": "stderr",
     "output_type": "stream",
     "text": [
      "/usr/local/lib/python3.7/site-packages/kedro/framework/context/context.py:488: UserWarning: Credentials not found in your Kedro project config.\n",
      "No files found in ['/kedro-sample/own_examples/conf/base', '/kedro-sample/own_examples/conf/local'] matching the glob pattern(s): ['credentials*', 'credentials*/**', '**/credentials*']\n",
      "  warn(f\"Credentials not found in your Kedro project config.\\n{str(exc)}\")\n"
     ]
    }
   ],
   "source": [
    "evaluate_model(\n",
    "    context.catalog.load(\"regressor\")\n",
    "    ,context.catalog.load(\"X_test\")\n",
    "    ,context.catalog.load(\"y_test\")\n",
    ")"
   ]
  },
  {
   "cell_type": "code",
   "execution_count": 4,
   "id": "4f670921",
   "metadata": {},
   "outputs": [
    {
     "name": "stderr",
     "output_type": "stream",
     "text": [
      "/usr/local/lib/python3.7/site-packages/onnx/mapping.py:27: DeprecationWarning: `np.object` is a deprecated alias for the builtin `object`. To silence this warning, use `object` by itself. Doing this will not modify any behavior and is safe. \n",
      "Deprecated in NumPy 1.20; for more details and guidance: https://numpy.org/devdocs/release/1.20.0-notes.html#deprecations\n",
      "  int(TensorProto.STRING): np.dtype(np.object)\n"
     ]
    }
   ],
   "source": [
    "from skl2onnx import convert_sklearn\n",
    "from skl2onnx.common.data_types import FloatTensorType"
   ]
  },
  {
   "cell_type": "code",
   "execution_count": 13,
   "id": "36739b95",
   "metadata": {},
   "outputs": [
    {
     "name": "stdout",
     "output_type": "stream",
     "text": [
      "2021-12-25 07:00:41,622 - kedro.io.data_catalog - INFO - Loading data from `X_test` (PickleDataSet)...\n"
     ]
    },
    {
     "data": {
      "text/plain": [
       "(151922, 8)"
      ]
     },
     "execution_count": 13,
     "metadata": {},
     "output_type": "execute_result"
    }
   ],
   "source": [
    "context.catalog.load(\"X_test\").shape"
   ]
  },
  {
   "cell_type": "code",
   "execution_count": 7,
   "id": "85ccf5dd",
   "metadata": {},
   "outputs": [
    {
     "name": "stderr",
     "output_type": "stream",
     "text": [
      "/usr/local/lib/python3.7/site-packages/kedro/framework/context/context.py:488: UserWarning: Credentials not found in your Kedro project config.\n",
      "No files found in ['/kedro-sample/own_examples/conf/base', '/kedro-sample/own_examples/conf/local'] matching the glob pattern(s): ['credentials*', 'credentials*/**', '**/credentials*']\n",
      "  warn(f\"Credentials not found in your Kedro project config.\\n{str(exc)}\")\n"
     ]
    },
    {
     "name": "stdout",
     "output_type": "stream",
     "text": [
      "2021-12-25 07:07:40,016 - kedro.io.data_catalog - INFO - Loading data from `regressor` (PickleDataSet)...\n",
      "2021-12-25 07:07:40,056 - kedro.io.data_catalog - INFO - Saving data to `onx` (PickleDataSet)...\n"
     ]
    }
   ],
   "source": [
    "initial_type = [('float_input', FloatTensorType([None, 8]))]\n",
    "onx = convert_sklearn(context.catalog.load(\"regressor\"), initial_types=initial_type)\n",
    "context.catalog.save(\"onx\", onx.SerializeToString())"
   ]
  },
  {
   "cell_type": "code",
   "execution_count": 13,
   "id": "0474a20c",
   "metadata": {},
   "outputs": [],
   "source": [
    "with open(\"../../data/06_models/shuttles.onnx\", \"wb\") as f:\n",
    "    f.write(onx.SerializeToString())"
   ]
  },
  {
   "cell_type": "code",
   "execution_count": 10,
   "id": "a07d6809",
   "metadata": {},
   "outputs": [
    {
     "name": "stdout",
     "output_type": "stream",
     "text": [
      "2021-12-25 07:08:59,873 - kedro.io.data_catalog - INFO - Loading data from `onx` (PickleDataSet)...\n",
      "2021-12-25 07:08:59,907 - kedro.io.data_catalog - INFO - Loading data from `X_test` (PickleDataSet)...\n"
     ]
    },
    {
     "name": "stderr",
     "output_type": "stream",
     "text": [
      "/usr/local/lib/python3.7/site-packages/kedro/framework/context/context.py:488: UserWarning: Credentials not found in your Kedro project config.\n",
      "No files found in ['/kedro-sample/own_examples/conf/base', '/kedro-sample/own_examples/conf/local'] matching the glob pattern(s): ['credentials*', 'credentials*/**', '**/credentials*']\n",
      "  warn(f\"Credentials not found in your Kedro project config.\\n{str(exc)}\")\n"
     ]
    }
   ],
   "source": [
    "import onnxruntime as rt\n",
    "import numpy\n",
    "sess = rt.InferenceSession(context.catalog.load(\"onx\"))\n",
    "input_name = sess.get_inputs()[0].name\n",
    "label_name = sess.get_outputs()[0].name\n",
    "pred_onx = sess.run([label_name], {input_name: context.catalog.load(\"X_test\").astype(numpy.float32).values})[0]"
   ]
  },
  {
   "cell_type": "code",
   "execution_count": 11,
   "id": "c2e5df23",
   "metadata": {},
   "outputs": [
    {
     "data": {
      "text/plain": [
       "array([[5788.9775],\n",
       "       [3973.5654],\n",
       "       [3594.4954],\n",
       "       ...,\n",
       "       [3748.6594],\n",
       "       [5454.851 ],\n",
       "       [4444.2515]], dtype=float32)"
      ]
     },
     "execution_count": 11,
     "metadata": {},
     "output_type": "execute_result"
    }
   ],
   "source": [
    "pred_onx"
   ]
  },
  {
   "cell_type": "code",
   "execution_count": null,
   "id": "d4e6a0c9",
   "metadata": {},
   "outputs": [],
   "source": []
  }
 ],
 "metadata": {
  "celltoolbar": "Tags",
  "interpreter": {
   "hash": "949777d72b0d2535278d3dc13498b2535136f6dfe0678499012e853ee9abcab1"
  },
  "kernelspec": {
   "display_name": "HellowKedro",
   "language": "python",
   "name": "python3"
  },
  "language_info": {
   "codemirror_mode": {
    "name": "ipython",
    "version": 3
   },
   "file_extension": ".py",
   "mimetype": "text/x-python",
   "name": "python",
   "nbconvert_exporter": "python",
   "pygments_lexer": "ipython3",
   "version": "3.7.12"
  }
 },
 "nbformat": 4,
 "nbformat_minor": 5
}
