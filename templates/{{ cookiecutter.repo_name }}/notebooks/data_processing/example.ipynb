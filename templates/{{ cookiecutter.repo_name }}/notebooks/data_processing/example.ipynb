{
 "cells": [
  {
   "cell_type": "code",
   "execution_count": 32,
   "id": "2aee751f",
   "metadata": {},
   "outputs": [],
   "source": [
    "from typing import Dict, Tuple, List, Any\n",
    "import datetime as dt\n",
    "import json\n",
    "from pathlib import Path\n",
    "import pandas as pd\n",
    "import numpy as np\n",
    "from sklearn import metrics\n",
    "import xgboost as xgb\n",
    "import mlflow\n",
    "from category_encoders import CountEncoder\n",
    "from kedro.framework.session import KedroSession\n",
    "from kedro.framework.session import get_current_session\n",
    "from kedro.framework.startup import bootstrap_project\n",
    "import sys\n",
    "sys.path.append(\"../../src/hellow_kedro/pipelines/data_processing\")\n",
    "from dataset import fetch_data\n",
    "from preprocesser import (_prepare_int_features, _prepare_binary_features, _prepare_categorical_features, _drop_unused_columns)"
   ]
  },
  {
   "cell_type": "code",
   "execution_count": 6,
   "id": "010b9176",
   "metadata": {},
   "outputs": [
    {
     "name": "stderr",
     "output_type": "stream",
     "text": [
      "fatal: Needed a single revision\n"
     ]
    },
    {
     "name": "stdout",
     "output_type": "stream",
     "text": [
      "2021-12-19 06:01:54,341 - kedro.framework.session.store - INFO - `save()` not implemented for `BaseSessionStore`. Skipping the step.\n"
     ]
    }
   ],
   "source": [
    "# use config with base\n",
    "metadata = bootstrap_project(Path.cwd().parent.parent)\n",
    "with KedroSession.create(metadata.package_name,\n",
    "        project_path=metadata.project_path,\n",
    "        # save_on_close=True,\n",
    "        env=None,\n",
    "        # extra_params=extra_params\n",
    "    ) as session: \n",
    "    context = session.load_context()\n"
   ]
  },
  {
   "cell_type": "code",
   "execution_count": 2,
   "id": "23f6634e",
   "metadata": {},
   "outputs": [
    {
     "ename": "NameError",
     "evalue": "name 'context' is not defined",
     "output_type": "error",
     "traceback": [
      "\u001b[0;31m---------------------------------------------------------------------------\u001b[0m",
      "\u001b[0;31mNameError\u001b[0m                                 Traceback (most recent call last)",
      "\u001b[0;32m/tmp/ipykernel_20881/1864304495.py\u001b[0m in \u001b[0;36m<module>\u001b[0;34m\u001b[0m\n\u001b[0;32m----> 1\u001b[0;31m \u001b[0mcontext\u001b[0m\u001b[0;34m.\u001b[0m\u001b[0mparams\u001b[0m\u001b[0;34m\u001b[0m\u001b[0;34m\u001b[0m\u001b[0m\n\u001b[0m",
      "\u001b[0;31mNameError\u001b[0m: name 'context' is not defined"
     ]
    }
   ],
   "source": [
    "context.params"
   ]
  },
  {
   "cell_type": "code",
   "execution_count": 28,
   "id": "da946bc1",
   "metadata": {
    "tags": [
     "node"
    ]
   },
   "outputs": [],
   "source": [
    "def download_data(date_hour: dt.datetime, params: Dict[str, Any]):\n",
    "    df = fetch_data(date_hour, params)\n",
    "    return df"
   ]
  },
  {
   "cell_type": "code",
   "execution_count": 1,
   "id": "a258bf54",
   "metadata": {},
   "outputs": [
    {
     "ename": "NameError",
     "evalue": "name 'download_data' is not defined",
     "output_type": "error",
     "traceback": [
      "\u001b[0;31m---------------------------------------------------------------------------\u001b[0m",
      "\u001b[0;31mNameError\u001b[0m                                 Traceback (most recent call last)",
      "\u001b[0;32m/tmp/ipykernel_20881/3039471679.py\u001b[0m in \u001b[0;36m<module>\u001b[0;34m\u001b[0m\n\u001b[0;32m----> 1\u001b[0;31m \u001b[0mdf\u001b[0m \u001b[0;34m=\u001b[0m \u001b[0mdownload_data\u001b[0m\u001b[0;34m(\u001b[0m\u001b[0mdt\u001b[0m\u001b[0;34m.\u001b[0m\u001b[0mdatetime\u001b[0m\u001b[0;34m(\u001b[0m\u001b[0;36m2021\u001b[0m\u001b[0;34m,\u001b[0m\u001b[0;36m12\u001b[0m\u001b[0;34m,\u001b[0m\u001b[0;36m17\u001b[0m\u001b[0;34m,\u001b[0m\u001b[0;36m10\u001b[0m\u001b[0;34m)\u001b[0m\u001b[0;34m,\u001b[0m \u001b[0mcontext\u001b[0m\u001b[0;34m.\u001b[0m\u001b[0mparams\u001b[0m\u001b[0;34m[\u001b[0m\u001b[0;34m\"dataset_params\"\u001b[0m\u001b[0;34m]\u001b[0m\u001b[0;34m)\u001b[0m\u001b[0;34m\u001b[0m\u001b[0;34m\u001b[0m\u001b[0m\n\u001b[0m\u001b[1;32m      2\u001b[0m \u001b[0mcontext\u001b[0m\u001b[0;34m.\u001b[0m\u001b[0mcatalog\u001b[0m\u001b[0;34m.\u001b[0m\u001b[0msave\u001b[0m\u001b[0;34m(\u001b[0m\u001b[0;34m\"raw_data\"\u001b[0m\u001b[0;34m,\u001b[0m \u001b[0mdf\u001b[0m\u001b[0;34m)\u001b[0m\u001b[0;34m\u001b[0m\u001b[0;34m\u001b[0m\u001b[0m\n",
      "\u001b[0;31mNameError\u001b[0m: name 'download_data' is not defined"
     ]
    }
   ],
   "source": [
    "df = download_data(dt.datetime(2021,12,17,10), context.params[\"dataset_params\"])\n",
    "context.catalog.save(\"raw_data\", df)"
   ]
  },
  {
   "cell_type": "code",
   "execution_count": 13,
   "id": "778c4e96",
   "metadata": {
    "tags": [
     "node"
    ]
   },
   "outputs": [],
   "source": [
    "def preprocess(\n",
    "    raw_X: pd.DataFrame,\n",
    "    feat_parameters: Dict[str, Any],\n",
    "    encoder: CountEncoder=None,\n",
    ") -> Tuple[pd.DataFrame, CountEncoder]:\n",
    "    y = raw_X[feat_parameters[\"label\"]].values.flatten()\n",
    "    X = raw_X.drop(\n",
    "        feat_parameters[\"label\"]\n",
    "        + feat_parameters[\"sample_weight\"]\n",
    "        + feat_parameters[\"postback_type\"]\n",
    "        + feat_parameters[\"bias_adjust_weight\"],\n",
    "        axis=1,\n",
    "    )\n",
    "    _prepare_int_features(X, feat_parameters[\"int_features\"])\n",
    "    _prepare_binary_features(X, feat_parameters[\"binary_features\"])\n",
    "    _drop_unused_columns(X, feat_parameters[\"drop_optional\"])\n",
    "    encoder = _prepare_categorical_features(\n",
    "        X,\n",
    "        raw_X,\n",
    "        feat_parameters[\"categorical_features\"],\n",
    "        feat_parameters[\"all_features\"],\n",
    "        encoder,\n",
    "    )\n",
    "\n",
    "    return (\n",
    "        X[feat_parameters[\"all_features\"]],\n",
    "        y,\n",
    "        encoder,\n",
    "    )"
   ]
  },
  {
   "cell_type": "code",
   "execution_count": 14,
   "id": "c1f12f3d",
   "metadata": {},
   "outputs": [
    {
     "name": "stdout",
     "output_type": "stream",
     "text": [
      "2021-12-19 05:31:31,380 - kedro.io.data_catalog - INFO - Loading data from `raw_data` (PickleDataSet)...\n",
      "2021-12-19 05:31:32,937 - kedro.io.data_catalog - INFO - Saving data to `encoder` (PickleDataSet)...\n",
      "2021-12-19 05:31:32,962 - kedro.io.data_catalog - INFO - Saving data to `features` (PickleDataSet)...\n",
      "2021-12-19 05:31:32,985 - kedro.io.data_catalog - INFO - Saving data to `labels` (PickleDataSet)...\n"
     ]
    },
    {
     "name": "stderr",
     "output_type": "stream",
     "text": [
      "../../src/hellow_kedro/pipelines/data_processing/preprocesser.py:46: SettingWithCopyWarning: \n",
      "A value is trying to be set on a copy of a slice from a DataFrame.\n",
      "Try using .loc[row_indexer,col_indexer] = value instead\n",
      "\n",
      "See the caveats in the documentation: https://pandas.pydata.org/pandas-docs/stable/user_guide/indexing.html#returning-a-view-versus-a-copy\n",
      "  X[c] = np.where(df_raw[c].isnull(), float(\"nan\"), X[c])\n"
     ]
    }
   ],
   "source": [
    "df_X, y, encoder = preprocess(\n",
    "    context.catalog.load(\"raw_data\")\n",
    "    ,context.params[\"features_params\"]\n",
    ")\n",
    "context.catalog.save(\"encoder\", encoder)\n",
    "context.catalog.save(\"features\", df_X)\n",
    "context.catalog.save(\"labels\", y)\n"
   ]
  },
  {
   "cell_type": "code",
   "execution_count": 3,
   "id": "41d82045",
   "metadata": {},
   "outputs": [
    {
     "ename": "NameError",
     "evalue": "name 'df_X' is not defined",
     "output_type": "error",
     "traceback": [
      "\u001b[0;31m---------------------------------------------------------------------------\u001b[0m",
      "\u001b[0;31mNameError\u001b[0m                                 Traceback (most recent call last)",
      "\u001b[0;32m/tmp/ipykernel_20881/248828195.py\u001b[0m in \u001b[0;36m<module>\u001b[0;34m\u001b[0m\n\u001b[0;32m----> 1\u001b[0;31m \u001b[0mdf_X\u001b[0m\u001b[0;34m\u001b[0m\u001b[0;34m\u001b[0m\u001b[0m\n\u001b[0m",
      "\u001b[0;31mNameError\u001b[0m: name 'df_X' is not defined"
     ]
    }
   ],
   "source": [
    "df_X"
   ]
  },
  {
   "cell_type": "code",
   "execution_count": 19,
   "id": "e2dc022a",
   "metadata": {
    "tags": [
     "node"
    ]
   },
   "outputs": [],
   "source": [
    "def fit(\n",
    "    X: pd.DataFrame,\n",
    "    y: np.ndarray,\n",
    "    params: Dict,\n",
    ") -> xgb.sklearn.XGBClassifier:\n",
    "    clf = xgb.XGBClassifier(**params)\n",
    "    clf.fit(X.values, y)\n",
    "    return clf"
   ]
  },
  {
   "cell_type": "code",
   "execution_count": 20,
   "id": "873747f9",
   "metadata": {},
   "outputs": [
    {
     "name": "stdout",
     "output_type": "stream",
     "text": [
      "2021-12-19 05:34:31,385 - kedro.io.data_catalog - INFO - Loading data from `features` (PickleDataSet)...\n",
      "2021-12-19 05:34:31,407 - kedro.io.data_catalog - INFO - Loading data from `labels` (PickleDataSet)...\n",
      "2021-12-19 05:34:31,814 - kedro.io.data_catalog - INFO - Saving data to `model` (PickleDataSet)...\n"
     ]
    }
   ],
   "source": [
    "model = fit(\n",
    "    context.catalog.load(\"features\")\n",
    "    ,context.catalog.load(\"labels\")\n",
    "    ,context.params[\"model_params\"][\"hyper_parameters\"]\n",
    ")\n",
    "context.catalog.save(\"model\", model)"
   ]
  },
  {
   "cell_type": "code",
   "execution_count": 3,
   "id": "b5060c3f",
   "metadata": {
    "tags": [
     "node"
    ]
   },
   "outputs": [],
   "source": [
    "def predict(model: xgb.sklearn.XGBClassifier, X_test: pd.DataFrame):\n",
    "    return model.predict_proba(X_test)[:,1]"
   ]
  },
  {
   "cell_type": "code",
   "execution_count": 8,
   "id": "fe99cd0a",
   "metadata": {},
   "outputs": [
    {
     "name": "stdout",
     "output_type": "stream",
     "text": [
      "2021-12-19 06:02:10,439 - kedro.io.data_catalog - INFO - Loading data from `model` (PickleDataSet)...\n",
      "2021-12-19 06:02:10,473 - kedro.io.data_catalog - INFO - Loading data from `features` (PickleDataSet)...\n",
      "2021-12-19 06:02:10,542 - kedro.io.data_catalog - INFO - Saving data to `y_hat` (PickleDataSet)...\n"
     ]
    }
   ],
   "source": [
    "y_hat = predict(\n",
    "    context.catalog.load(\"model\")\n",
    "    ,context.catalog.load(\"features\")\n",
    ")\n",
    "context.catalog.save(\"y_hat\", y_hat)"
   ]
  },
  {
   "cell_type": "code",
   "execution_count": 40,
   "id": "7d424be1",
   "metadata": {
    "tags": [
     "node"
    ]
   },
   "outputs": [],
   "source": [
    "def report_accuracy(predictions: np.ndarray, test_y: np.ndarray, parameters: Dict[str, Any]) -> None:\n",
    "    fpr, tpr, _ = metrics.roc_curve(test_y, predictions)\n",
    "    _auc = metrics.auc(fpr, tpr)\n",
    "    \n",
    "    with mlflow.start_run():\n",
    "        mlflow.log_metric(\"auc\", _auc)\n",
    "        mlflow.log_param(\"time of prediction\", str(dt.datetime.now()))\n",
    "        mlflow.log_param(\"model_params\", parameters)\n",
    "    \n",
    "    return json.dumps({\"auc\": _auc})"
   ]
  },
  {
   "cell_type": "code",
   "execution_count": 42,
   "id": "77994d5b",
   "metadata": {},
   "outputs": [
    {
     "name": "stdout",
     "output_type": "stream",
     "text": [
      "2021-12-19 06:18:14,923 - kedro.io.data_catalog - INFO - Loading data from `y_hat` (PickleDataSet)...\n",
      "2021-12-19 06:18:14,943 - kedro.io.data_catalog - INFO - Loading data from `labels` (PickleDataSet)...\n",
      "2021-12-19 06:18:14,993 - kedro.io.data_catalog - INFO - Saving data to `report` (JSONDataSet)...\n"
     ]
    }
   ],
   "source": [
    "report = report_accuracy(\n",
    "    context.catalog.load(\"y_hat\")\n",
    "    ,context.catalog.load(\"labels\")\n",
    "    ,context.params[\"model_params\"][\"hyper_parameters\"]\n",
    ")\n",
    "context.catalog.save(\"report\", report)"
   ]
  },
  {
   "cell_type": "code",
   "execution_count": null,
   "id": "4f670921",
   "metadata": {},
   "outputs": [],
   "source": []
  }
 ],
 "metadata": {
  "celltoolbar": "Tags",
  "interpreter": {
   "hash": "949777d72b0d2535278d3dc13498b2535136f6dfe0678499012e853ee9abcab1"
  },
  "kernelspec": {
   "display_name": "HellowKedro",
   "language": "python",
   "name": "python3"
  },
  "language_info": {
   "codemirror_mode": {
    "name": "ipython",
    "version": 3
   },
   "file_extension": ".py",
   "mimetype": "text/x-python",
   "name": "python",
   "nbconvert_exporter": "python",
   "pygments_lexer": "ipython3",
   "version": "3.7.12"
  }
 },
 "nbformat": 4,
 "nbformat_minor": 5
}
